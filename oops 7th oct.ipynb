{
 "cells": [
  {
   "cell_type": "code",
   "execution_count": 9,
   "id": "8b6a7b1a-3ff5-4b22-be3e-d3b2d7aa7e3a",
   "metadata": {},
   "outputs": [],
   "source": [
    "class a :\n",
    "    \n",
    "    def test(self):\n",
    "        print(\"this test method is a part of class a\")\n",
    "        \n",
    "    def test1(self):\n",
    "        print(\"this is test1 from class a \")"
   ]
  },
  {
   "cell_type": "code",
   "execution_count": 10,
   "id": "8e4d306f-fdb4-47a0-a93d-597f5b21d30b",
   "metadata": {},
   "outputs": [],
   "source": [
    "obj_a = a()"
   ]
  },
  {
   "cell_type": "code",
   "execution_count": 11,
   "id": "81ef5597-cf96-4ed9-a4f6-21e2e93aca70",
   "metadata": {},
   "outputs": [
    {
     "name": "stdout",
     "output_type": "stream",
     "text": [
      "this test method is a part of class a\n"
     ]
    }
   ],
   "source": [
    "obj_a.test()"
   ]
  },
  {
   "cell_type": "code",
   "execution_count": 16,
   "id": "11ee63d6-433d-48dc-ada0-5dd6771310ba",
   "metadata": {},
   "outputs": [],
   "source": [
    "class b(a) :\n",
    "    def test1b(self):\n",
    "        print(\"this is a part of class b \")"
   ]
  },
  {
   "cell_type": "code",
   "execution_count": 17,
   "id": "badaedfe-57d1-43c6-9193-e5afb0f31dbc",
   "metadata": {},
   "outputs": [],
   "source": [
    "obj_b = b()"
   ]
  },
  {
   "cell_type": "code",
   "execution_count": 18,
   "id": "3ce19f61-ba8e-4050-9d4d-614adfd964c5",
   "metadata": {},
   "outputs": [
    {
     "name": "stdout",
     "output_type": "stream",
     "text": [
      "this test method is a part of class a\n"
     ]
    }
   ],
   "source": [
    "obj_b.test()"
   ]
  },
  {
   "cell_type": "code",
   "execution_count": 19,
   "id": "5e473fae-e094-4407-99df-16a04ab4c80a",
   "metadata": {},
   "outputs": [
    {
     "name": "stdout",
     "output_type": "stream",
     "text": [
      "this is test1 from class a \n"
     ]
    }
   ],
   "source": [
    "obj_b.test1()"
   ]
  },
  {
   "cell_type": "code",
   "execution_count": null,
   "id": "02a8f055-535f-4bc2-adc1-575445f82570",
   "metadata": {},
   "outputs": [],
   "source": [
    "obj_b."
   ]
  },
  {
   "cell_type": "code",
   "execution_count": 21,
   "id": "59361cd3-c0c4-4ddd-abac-cbe3275ade5f",
   "metadata": {},
   "outputs": [],
   "source": [
    "class lecture:\n",
    "    \n",
    "    def topic(self):\n",
    "        print(\"todays class we are discussing about inheritance condept in oops\")\n",
    "        \n",
    "    def timing(self):\n",
    "        print(\"timing for todays class is 9 AM IST\")\n",
    "        \n",
    "    def end_time(self):\n",
    "        print(\"today i will try to end class bit early\")"
   ]
  },
  {
   "cell_type": "code",
   "execution_count": 23,
   "id": "6e3dd2de-883e-4e9e-98a0-4a7089af1627",
   "metadata": {},
   "outputs": [],
   "source": [
    "class student(lecture):\n",
    "    \n",
    "    def student_details(self):\n",
    "        print(\"this class will give you a student details\")"
   ]
  },
  {
   "cell_type": "code",
   "execution_count": 24,
   "id": "c2ad2a89-0f29-4410-86c4-e33f47b4186d",
   "metadata": {},
   "outputs": [],
   "source": [
    "naval = student()"
   ]
  },
  {
   "cell_type": "code",
   "execution_count": 25,
   "id": "38c86e7f-5560-464a-b597-c88a74819f1a",
   "metadata": {},
   "outputs": [
    {
     "name": "stdout",
     "output_type": "stream",
     "text": [
      "todays class we are discussing about inheritance condept in oops\n"
     ]
    }
   ],
   "source": [
    "naval.topic()"
   ]
  },
  {
   "cell_type": "code",
   "execution_count": 26,
   "id": "02efc8a4-f995-4f85-87d2-620ccc0f61fa",
   "metadata": {},
   "outputs": [
    {
     "name": "stdout",
     "output_type": "stream",
     "text": [
      "timing for todays class is 9 AM IST\n"
     ]
    }
   ],
   "source": [
    "satish = student()\n",
    "satish.timing()"
   ]
  },
  {
   "cell_type": "code",
   "execution_count": 28,
   "id": "03932972-a58b-46e5-a3f8-ffc43c84ce53",
   "metadata": {},
   "outputs": [],
   "source": [
    "class teacher(student):\n",
    "    def details(self):\n",
    "        print(\"this will give you a details about teacher\")"
   ]
  },
  {
   "cell_type": "code",
   "execution_count": 29,
   "id": "fff36c1b-f1e9-467e-b29f-c304aa9feec9",
   "metadata": {},
   "outputs": [
    {
     "name": "stdout",
     "output_type": "stream",
     "text": [
      "timing for todays class is 9 AM IST\n"
     ]
    }
   ],
   "source": [
    "sudh = teacher()\n",
    "sudh.timing()"
   ]
  },
  {
   "cell_type": "code",
   "execution_count": 39,
   "id": "a5e8c94b-de62-4ef5-8eba-81259d83dd3d",
   "metadata": {},
   "outputs": [],
   "source": [
    "class lecture:\n",
    "    def topic(self):\n",
    "        print(\"todays class we are discussing about inheritance condept in oops\")\n",
    "        \n",
    "    def timing(self):\n",
    "        print(\"timing for todays class is 9 AM IST\")\n",
    "        \n",
    "    def end_time(self):\n",
    "        print(\"today i will try to end class bit early\")"
   ]
  },
  {
   "cell_type": "code",
   "execution_count": 40,
   "id": "2007141c-1b71-4cd4-9bed-a3cd8d851baa",
   "metadata": {},
   "outputs": [],
   "source": [
    "class student:\n",
    "    \n",
    "    def student_details(self):\n",
    "        print(\"this class will give you a student details\")\n",
    "        \n",
    "    def timing(self):\n",
    "        print(\"this is a timing fun from student class\")\n",
    "        "
   ]
  },
  {
   "cell_type": "code",
   "execution_count": 48,
   "id": "272860d3-1fac-475b-8c09-0490069224bc",
   "metadata": {},
   "outputs": [],
   "source": [
    "class teacher(lecture,student):\n",
    "    def details(self):\n",
    "        print(\"this will give you a details about teacher\")"
   ]
  },
  {
   "cell_type": "code",
   "execution_count": 49,
   "id": "f4a9ae16-f0e3-4a4a-a003-38773611cd2a",
   "metadata": {},
   "outputs": [],
   "source": [
    "krish = teacher()"
   ]
  },
  {
   "cell_type": "code",
   "execution_count": 50,
   "id": "6dc85f37-219e-4c72-927c-9aebb550fea9",
   "metadata": {},
   "outputs": [
    {
     "name": "stdout",
     "output_type": "stream",
     "text": [
      "timing for todays class is 9 AM IST\n"
     ]
    }
   ],
   "source": [
    "krish.timing()"
   ]
  },
  {
   "cell_type": "code",
   "execution_count": 37,
   "id": "8bcbac88-9172-4a31-a191-9c4b9a1c6eac",
   "metadata": {},
   "outputs": [
    {
     "name": "stdout",
     "output_type": "stream",
     "text": [
      "this class will give you a student details\n"
     ]
    }
   ],
   "source": [
    "krish.student_details()"
   ]
  },
  {
   "cell_type": "markdown",
   "id": "86b47d4f-860e-4702-83a0-0145887ab41a",
   "metadata": {},
   "source": [
    "Problem 1: Bank Account Create a class representing a bank account with attributes like account number, account holder name, and balance. Implement methods to deposit and withdraw money from the account.\n",
    "\n",
    "Problem 2: Employee Management Create a class representing an employee with attributes like employee ID, name, and salary. Implement methods to calculate the yearly bonus and display employee details.\n",
    "\n",
    "Problem 3: Vehicle Rental Create a class representing a vehicle rental system. Implement methods to rent a vehicle, return a vehicle, and display available vehicles.\n",
    "\n",
    "Problem 4: Library Catalog Create classes representing a library and a book. Implement methods to add books to the library, borrow books, and display available books.\n",
    "\n",
    "Problem 5: Product Inventory Create classes representing a product and an inventory system. Implement methods to add products to the inventory, update product quantity, and display available products.\n",
    "\n",
    "Problem 6: Shape Calculation Create a class representing a shape with attributes like length, width, and height. Implement methods to calculate the area and perimeter of the shape.\n",
    "\n",
    "Problem 7: Student Management Create a class representing a student with attributes like student ID, name, and grades. Implement methods to calculate the average grade and display student details.\n",
    "\n",
    "Problem 8: Email Management Create a class representing an email with attributes like sender, recipient, and subject. Implement methods to send an email and display email details.\n",
    "\n",
    "Problem 9: Social Media Profile Create a class representing a social media profile with attributes like username and posts. Implement methods to add posts, display posts, and search for posts by keyword.\n",
    "\n",
    "Problem 10: ToDo List Create a class representing a ToDo list with attributes like tasks and due dates. Implement methods to add tasks, mark tasks as completed, and display pending tasks."
   ]
  },
  {
   "cell_type": "code",
   "execution_count": 1,
   "id": "fef1683a-faa4-4d27-a0a6-7a742e512e9b",
   "metadata": {},
   "outputs": [],
   "source": [
    "#Problem 1: Bank Account Create a class representing a bank account with attributes \n",
    "#like account number, account holder name, and balance. \n",
    "#Implement methods to deposit and withdraw money from the account."
   ]
  },
  {
   "cell_type": "code",
   "execution_count": 17,
   "id": "8c24bf89",
   "metadata": {},
   "outputs": [],
   "source": [
    "class bank_account:\n",
    "    \n",
    "    def __init__(self,account_number,holder_name,balance):\n",
    "        self.account_number=account_number\n",
    "        self.holder_name1=holder_name\n",
    "        self.balance=balance\n",
    "        \n",
    "    def deposit(self,amount):\n",
    "        self.balance+=amount\n",
    "        return self.balance\n",
    "    \n",
    "    def withdrawal(self,amount):\n",
    "        self.balance-=amount\n",
    "        return self.balance\n",
    "        \n",
    "        "
   ]
  },
  {
   "cell_type": "code",
   "execution_count": 18,
   "id": "a8294c7f",
   "metadata": {},
   "outputs": [],
   "source": [
    "account1= bank_account(1245,'ghj',100000)"
   ]
  },
  {
   "cell_type": "code",
   "execution_count": 19,
   "id": "b314d73c",
   "metadata": {},
   "outputs": [
    {
     "data": {
      "text/plain": [
       "125000"
      ]
     },
     "execution_count": 19,
     "metadata": {},
     "output_type": "execute_result"
    }
   ],
   "source": [
    "account1.deposit(25000)"
   ]
  },
  {
   "cell_type": "code",
   "execution_count": 21,
   "id": "886e116f",
   "metadata": {},
   "outputs": [
    {
     "data": {
      "text/plain": [
       "'ghj'"
      ]
     },
     "execution_count": 21,
     "metadata": {},
     "output_type": "execute_result"
    }
   ],
   "source": [
    "account1.holder_name1"
   ]
  },
  {
   "cell_type": "code",
   "execution_count": 22,
   "id": "7d4b4cbd",
   "metadata": {},
   "outputs": [
    {
     "data": {
      "text/plain": [
       "100000"
      ]
     },
     "execution_count": 22,
     "metadata": {},
     "output_type": "execute_result"
    }
   ],
   "source": [
    "account1.withdrawal(25000)"
   ]
  },
  {
   "cell_type": "code",
   "execution_count": 16,
   "id": "02546ce1",
   "metadata": {},
   "outputs": [],
   "source": [
    "#Problem 2: Employee Management Create a class representing an employee with attributes like\n",
    "#employee ID, name, and salary. \n",
    "#Implement methods to calculate the yearly bonus and display employee details."
   ]
  },
  {
   "cell_type": "code",
   "execution_count": 28,
   "id": "5d446d94",
   "metadata": {},
   "outputs": [],
   "source": [
    "class employee:\n",
    "    \n",
    "    def __init__(self,employee_ID,employee_name,salary):\n",
    "        self.employee_ID=employee_ID\n",
    "        self.employee_name=employee_name\n",
    "        self.salary=salary\n",
    "        \n",
    "    def yearly_bonus(self):\n",
    "        bonus=self.salary*0.1\n",
    "        return bonus\n",
    "    \n",
    "    def display(self):\n",
    "        print(f\"Employee ID : {self.employee_ID}\")\n",
    "        print(f\"Employee name : {self.employee_name}\")\n",
    "        \n",
    "emp1=employee('A123','Hiren',45000)\n",
    "        \n",
    "        \n",
    "    "
   ]
  },
  {
   "cell_type": "code",
   "execution_count": 29,
   "id": "1823657c",
   "metadata": {},
   "outputs": [
    {
     "name": "stdout",
     "output_type": "stream",
     "text": [
      "Employee ID : A123\n",
      "Employee name : Hiren\n"
     ]
    }
   ],
   "source": [
    "emp1.display()"
   ]
  },
  {
   "cell_type": "code",
   "execution_count": 30,
   "id": "8e085d52",
   "metadata": {},
   "outputs": [
    {
     "data": {
      "text/plain": [
       "4500.0"
      ]
     },
     "execution_count": 30,
     "metadata": {},
     "output_type": "execute_result"
    }
   ],
   "source": [
    "emp1.yearly_bonus()"
   ]
  },
  {
   "cell_type": "code",
   "execution_count": 61,
   "id": "72ad3917",
   "metadata": {},
   "outputs": [],
   "source": [
    "#Problem 3: Vehicle Rental Create a class representing a vehicle rental system. \n",
    "#Implement methods to rent a vehicle, return a vehicle, and display available vehicles.\n"
   ]
  },
  {
   "cell_type": "code",
   "execution_count": 32,
   "id": "bf62bc83",
   "metadata": {},
   "outputs": [
    {
     "name": "stdout",
     "output_type": "stream",
     "text": [
      "Added Car with ID CAR001 to the rental system.\n",
      "Added Bike with ID BIKE001 to the rental system.\n",
      "Available Vehicles:\n",
      "Cars:\n",
      "ID: CAR001\n",
      "Bikes:\n",
      "ID: BIKE001\n",
      "\n",
      "Rented Car with ID CAR001.\n",
      "Available Vehicles:\n",
      "Cars:\n",
      "Bikes:\n",
      "ID: BIKE001\n",
      "\n",
      "Returned Car with ID CAR001.\n",
      "Available Vehicles:\n",
      "Cars:\n",
      "ID: CAR001\n",
      "Bikes:\n",
      "ID: BIKE001\n",
      "\n"
     ]
    }
   ],
   "source": [
    "class VehicleRentalSystem:\n",
    "    def __init__(self):\n",
    "        # Initialize an empty dictionary to store available vehicles.\n",
    "        self.available_vehicles = {}\n",
    "\n",
    "    def rent_vehicle(self, vehicle_type, vehicle_id):\n",
    "        # Check if the requested vehicle type is available and if the vehicle is not already rented.\n",
    "        if vehicle_type in self.available_vehicles and vehicle_id in self.available_vehicles[vehicle_type]:\n",
    "            # Mark the vehicle as rented by removing it from the available vehicles list.\n",
    "            self.available_vehicles[vehicle_type].remove(vehicle_id)\n",
    "            print(f\"Rented {vehicle_type} with ID {vehicle_id}.\")\n",
    "        else:\n",
    "            print(f\"{vehicle_type} with ID {vehicle_id} is not available for rent.\")\n",
    "\n",
    "    def return_vehicle(self, vehicle_type, vehicle_id):\n",
    "        # Check if the vehicle type exists and if the vehicle was previously rented.\n",
    "        if vehicle_type in self.available_vehicles:\n",
    "            # Add the returned vehicle back to the available vehicles list.\n",
    "            self.available_vehicles[vehicle_type].append(vehicle_id)\n",
    "            print(f\"Returned {vehicle_type} with ID {vehicle_id}.\")\n",
    "        else:\n",
    "            print(f\"{vehicle_type} with ID {vehicle_id} cannot be returned as it is not part of the rental system.\")\n",
    "\n",
    "    def display_available_vehicles(self):\n",
    "        print(\"Available Vehicles:\")\n",
    "        for vehicle_type, vehicles in self.available_vehicles.items():\n",
    "            print(f\"{vehicle_type}s:\")\n",
    "            for vehicle_id in vehicles:\n",
    "                print(f\"ID: {vehicle_id}\")\n",
    "        print()\n",
    "\n",
    "    def add_vehicle(self, vehicle_type, vehicle_id):\n",
    "        # Add a new vehicle to the system.\n",
    "        if vehicle_type not in self.available_vehicles:\n",
    "            self.available_vehicles[vehicle_type] = []\n",
    "        self.available_vehicles[vehicle_type].append(vehicle_id)\n",
    "        print(f\"Added {vehicle_type} with ID {vehicle_id} to the rental system.\")\n",
    "\n",
    "# Example usage:\n",
    "rental_system = VehicleRentalSystem()\n",
    "\n",
    "# Add some vehicles to the system\n",
    "rental_system.add_vehicle(\"Car\", \"CAR001\")\n",
    "rental_system.add_vehicle(\"Bike\", \"BIKE001\")\n",
    "\n",
    "# Display available vehicles\n",
    "rental_system.display_available_vehicles()\n",
    "\n",
    "# Rent a vehicle\n",
    "rental_system.rent_vehicle(\"Car\", \"CAR001\")\n",
    "\n",
    "# Display available vehicles after renting\n",
    "rental_system.display_available_vehicles()\n",
    "\n",
    "# Return a vehicle\n",
    "rental_system.return_vehicle(\"Car\", \"CAR001\")\n",
    "\n",
    "# Display available vehicles after returning\n",
    "rental_system.display_available_vehicles()\n"
   ]
  },
  {
   "cell_type": "code",
   "execution_count": 59,
   "id": "37bf5bf9",
   "metadata": {},
   "outputs": [],
   "source": [
    "class vehiclerentalsystem:\n",
    "    \n",
    "    def __init__(self):\n",
    "        self.available_vehicles={}\n",
    "        \n",
    "    def add_vehicle(self,vehicle_type,vehicle_ID):\n",
    "        if vehicle_type not in self.available_vehicles:\n",
    "            self.available_vehicles[vehicle_type]=[]\n",
    "        self.available_vehicles[vehicle_type].append(vehicle_ID)\n",
    "        print(f\"{vehicle_type} with ID {vehicle_ID} has been added\")\n",
    "        \n",
    "    def display_vehicles(self):\n",
    "        print(f\"Available vehicles are : \")\n",
    "        for vehicle_type,vehicles in self.available_vehicles.items():\n",
    "            print(f\"{vehicle_type}\")\n",
    "            for vehicle_ID in vehicles:\n",
    "                print(f\"{vehicle_ID}\")\n",
    "        print()\n",
    "            \n",
    "    def rent_vehicle(self,vehicle_type,vehicle_ID):\n",
    "        if vehicle_type in self.available_vehicles:\n",
    "            if vehicle_ID in self.available_vehicles[vehicle_type]:\n",
    "                self.available_vehicles[vehicle_type].remove(vehicle_ID)\n",
    "        print(f\"{vehicle_type} with ID {vehicle_ID} has been rented\")\n",
    "        \n",
    "    def return_vehicle(self,vehicle_type,vehicle_ID):\n",
    "        if vehicle_type in self.available_vehicles:\n",
    "            self.available_vehicles[vehicle_type].append(vehicle_ID)\n",
    "        print(f\"{vehicle_type} with ID {vehicle_ID} has been returned\")\n",
    "            \n",
    "            "
   ]
  },
  {
   "cell_type": "code",
   "execution_count": 60,
   "id": "29a64182",
   "metadata": {},
   "outputs": [
    {
     "name": "stdout",
     "output_type": "stream",
     "text": [
      "car with ID WB123 has been added\n",
      "bike with ID WB789 has been added\n",
      "Available vehicles are : \n",
      "car\n",
      "WB123\n",
      "bike\n",
      "WB789\n",
      "\n",
      "car with ID WB123 has been rented\n",
      "Available vehicles are : \n",
      "car\n",
      "bike\n",
      "WB789\n",
      "\n",
      "car with ID WB123 has been returned\n",
      "Available vehicles are : \n",
      "car\n",
      "WB123\n",
      "bike\n",
      "WB789\n",
      "\n"
     ]
    }
   ],
   "source": [
    "rentalsystem=vehiclerentalsystem()\n",
    "rentalsystem.add_vehicle('car','WB123')\n",
    "rentalsystem.add_vehicle('bike','WB789')\n",
    "rentalsystem.display_vehicles()\n",
    "\n",
    "rentalsystem.rent_vehicle('car','WB123')\n",
    "rentalsystem.display_vehicles()\n",
    "\n",
    "rentalsystem.return_vehicle('car','WB123')\n",
    "rentalsystem.display_vehicles()"
   ]
  },
  {
   "cell_type": "code",
   "execution_count": 62,
   "id": "7080327a",
   "metadata": {},
   "outputs": [],
   "source": [
    "#Problem 4: Library Catalog Create classes representing a library and a book. \n",
    "#Implement methods to add books to the library, borrow books, and display available books."
   ]
  },
  {
   "cell_type": "code",
   "execution_count": 1,
   "id": "474056cd",
   "metadata": {},
   "outputs": [
    {
     "name": "stdout",
     "output_type": "stream",
     "text": [
      "Added 'The Great Gatsby' by F. Scott Fitzgerald to the library catalog.\n",
      "Added 'To Kill a Mockingbird' by Harper Lee to the library catalog.\n",
      "Available Books:\n",
      "The Great Gatsby by F. Scott Fitzgerald - Available\n",
      "To Kill a Mockingbird by Harper Lee - Available\n",
      "Borrowed 'The Great Gatsby' successfully.\n",
      "Available Books:\n",
      "To Kill a Mockingbird by Harper Lee - Available\n",
      "'The Great Gatsby' is either not available or not in the library catalog.\n"
     ]
    }
   ],
   "source": [
    "class Book:\n",
    "    def __init__(self, title, author):\n",
    "        self.title = title\n",
    "        self.author = author\n",
    "        self.is_available = True\n",
    "\n",
    "    def __str__(self):\n",
    "        availability = \"Available\" if self.is_available else \"Not Available\"\n",
    "        return f\"{self.title} by {self.author} - {availability}\"\n",
    "\n",
    "class Library:\n",
    "    def __init__(self):\n",
    "        self.books = []\n",
    "\n",
    "    def add_book(self, title, author):\n",
    "        new_book = Book(title, author)\n",
    "        self.books.append(new_book)\n",
    "        print(f\"Added '{title}' by {author} to the library catalog.\")\n",
    "\n",
    "    def borrow_book(self, title):\n",
    "        for book in self.books:\n",
    "            if book.title == title and book.is_available:\n",
    "                book.is_available = False\n",
    "                print(f\"Borrowed '{title}' successfully.\")\n",
    "                return\n",
    "        print(f\"'{title}' is either not available or not in the library catalog.\")\n",
    "\n",
    "    def display_available_books(self):\n",
    "        print(\"Available Books:\")\n",
    "        available_books = [book for book in self.books if book.is_available]\n",
    "        if available_books:\n",
    "            for book in available_books:\n",
    "                print(book)\n",
    "        else:\n",
    "            print(\"No books are available in the library.\")\n",
    "\n",
    "# Example usage:\n",
    "library = Library()\n",
    "\n",
    "# Add books to the library\n",
    "library.add_book(\"The Great Gatsby\", \"F. Scott Fitzgerald\")\n",
    "library.add_book(\"To Kill a Mockingbird\", \"Harper Lee\")\n",
    "\n",
    "# Display available books\n",
    "library.display_available_books()\n",
    "\n",
    "# Borrow a book\n",
    "library.borrow_book(\"The Great Gatsby\")\n",
    "\n",
    "# Display available books after borrowing\n",
    "library.display_available_books()\n",
    "\n",
    "# Borrow a book that is not available\n",
    "library.borrow_book(\"The Great Gatsby\")\n"
   ]
  },
  {
   "cell_type": "code",
   "execution_count": 2,
   "id": "4cdb839c",
   "metadata": {},
   "outputs": [],
   "source": [
    "class Book:\n",
    "    \n",
    "    def __init__(self,title,author):\n",
    "        self.title=title\n",
    "        self.author=author\n",
    "        self.is_available=True\n",
    "        \n",
    "    def __str__(self):\n",
    "        availability=\"available\" if self.is_available else \"not available\"\n",
    "        return f\"{self.title} by {self.author} is {availability}\"\n",
    "    \n",
    "class Library:\n",
    "    \n",
    "    def __init__(self):\n",
    "        self.books=[]\n",
    "        \n",
    "    def add_book(self,title,author):\n",
    "        for book in self.books:\n",
    "            if book.title==title and  book.is_available:\n",
    "                print(f\"{title} is already available.\")\n",
    "                return\n",
    "        new_book=Book(title,author)\n",
    "        self.books.append(new_book)\n",
    "        print(f\"{title} by {author} has been added.\")\n",
    "        \n",
    "    def display_available_books(self):\n",
    "        print(f\"Available books : \")\n",
    "        for book in self.books:\n",
    "            if book.is_available:\n",
    "                print(book)\n",
    "    \n",
    "    def borrow_book(self,title):\n",
    "        \n",
    "        for book in self.books:\n",
    "            if book.title==title and book.is_available:\n",
    "                book.is_available=False\n",
    "                print(f\"{title} is borrowed successfully\")\n",
    "                return\n",
    "        print(f\"{title} is either not available or has been borrowed\")\n",
    "        \n",
    "        "
   ]
  },
  {
   "cell_type": "code",
   "execution_count": 3,
   "id": "d9bbf7ee",
   "metadata": {},
   "outputs": [
    {
     "name": "stdout",
     "output_type": "stream",
     "text": [
      "mid summer night's dream by Shakespeare has been added.\n",
      "Ghore Baire by Tagore has been added.\n",
      "Available books : \n",
      "mid summer night's dream by Shakespeare is available\n",
      "Ghore Baire by Tagore is available\n",
      "mid summer night's dream is borrowed successfully\n",
      "mid summer night's dream is either not available or has been borrowed\n",
      "Available books : \n",
      "Ghore Baire by Tagore is available\n",
      "Ghore Baire is already available.\n",
      "mid summer night's dream by Shakespeare has been added.\n",
      "Available books : \n",
      "Ghore Baire by Tagore is available\n",
      "mid summer night's dream by Shakespeare is available\n"
     ]
    }
   ],
   "source": [
    "lib=Library()\n",
    "\n",
    "lib.add_book(\"mid summer night's dream\",\"Shakespeare\")\n",
    "lib.add_book(\"Ghore Baire\",\"Tagore\")\n",
    "\n",
    "lib.display_available_books()\n",
    "\n",
    "lib.borrow_book(\"mid summer night's dream\")\n",
    "lib.borrow_book(\"mid summer night's dream\")\n",
    "\n",
    "lib.display_available_books()\n",
    "\n",
    "lib.add_book(\"Ghore Baire\",\"Tagore\")\n",
    "lib.add_book(\"mid summer night's dream\",\"Shakespeare\")\n",
    "\n",
    "lib.display_available_books()"
   ]
  },
  {
   "cell_type": "code",
   "execution_count": 4,
   "id": "7fefbfec",
   "metadata": {},
   "outputs": [],
   "source": [
    "#Problem 5: Product Inventory Create classes representing a product and an inventory system.\n",
    "#    Implement methods to add products to the inventory, update product quantity, \n",
    "#    and display available products."
   ]
  },
  {
   "cell_type": "code",
   "execution_count": 5,
   "id": "83723012",
   "metadata": {},
   "outputs": [
    {
     "name": "stdout",
     "output_type": "stream",
     "text": [
      "Initial Inventory:\n",
      "Product ID: 1, Name: Widget, Price: $10.99, Quantity: 50\n",
      "Product ID: 2, Name: Gadget, Price: $29.99, Quantity: 25\n",
      "Product ID: 3, Name: Doodad, Price: $5.99, Quantity: 100\n",
      "\n",
      "Updated Inventory:\n",
      "Product ID: 1, Name: Widget, Price: $10.99, Quantity: 60\n",
      "Product ID: 2, Name: Gadget, Price: $29.99, Quantity: 25\n",
      "Product ID: 3, Name: Doodad, Price: $5.99, Quantity: 100\n"
     ]
    }
   ],
   "source": [
    "\n",
    "class Product:\n",
    "    def __init__(self, product_id, name, price, quantity):\n",
    "        self.product_id = product_id\n",
    "        self.name = name\n",
    "        self.price = price\n",
    "        self.quantity = quantity\n",
    "\n",
    "    def __str__(self):\n",
    "        return f\"Product ID: {self.product_id}, Name: {self.name}, Price: ${self.price}, Quantity: {self.quantity}\"\n",
    "\n",
    "class Inventory:\n",
    "    def __init__(self):\n",
    "        self.products = []\n",
    "\n",
    "    def add_product(self, product):\n",
    "        self.products.append(product)\n",
    "\n",
    "    def update_quantity(self, product_id, new_quantity):\n",
    "        for product in self.products:\n",
    "            if product.product_id == product_id:\n",
    "                product.quantity = new_quantity\n",
    "                break\n",
    "\n",
    "    def display_products(self):\n",
    "        for product in self.products:\n",
    "            print(product)\n",
    "\n",
    "# Example usage:\n",
    "\n",
    "# Create some product instances\n",
    "product1 = Product(1, \"Widget\", 10.99, 50)\n",
    "product2 = Product(2, \"Gadget\", 29.99, 25)\n",
    "product3 = Product(3, \"Doodad\", 5.99, 100)\n",
    "\n",
    "# Create an inventory and add products to it\n",
    "inventory = Inventory()\n",
    "inventory.add_product(product1)\n",
    "inventory.add_product(product2)\n",
    "inventory.add_product(product3)\n",
    "\n",
    "# Display the initial inventory\n",
    "print(\"Initial Inventory:\")\n",
    "inventory.display_products()\n",
    "\n",
    "# Update the quantity of a product\n",
    "inventory.update_quantity(1, 60)\n",
    "\n",
    "# Display the updated inventory\n",
    "print(\"\\nUpdated Inventory:\")\n",
    "inventory.display_products()\n"
   ]
  },
  {
   "cell_type": "code",
   "execution_count": 1,
   "id": "c43f878d",
   "metadata": {},
   "outputs": [],
   "source": [
    "class Product:\n",
    "    def __init__(self,product_ID,name,price,quantity):\n",
    "        self.product_ID=product_ID\n",
    "        self.name=name\n",
    "        self.price=price\n",
    "        self.quantity=quantity\n",
    "        \n",
    "    def __str__(self):\n",
    "        return f\"{self.product_ID},{self.name},{self.price},{self.quantity}\"\n",
    "\n",
    "class InventorySystem:\n",
    "    def __init__(self):\n",
    "        self.products={}\n",
    "        \n",
    "    def add_product(self,product):\n",
    "        if product.product_ID not in self.products:\n",
    "            self.products[product.product_ID]=product\n",
    "            print(f\"{product.name} has been added.\")\n",
    "        else:\n",
    "            print(f\"product with {product.product_ID} already exists.\")\n",
    "    \n",
    "    def display_available_products(self):\n",
    "        for product in self.products.values():\n",
    "            if product.quantity>0:\n",
    "                print(product)\n",
    "    \n",
    "    def update_product_quantity(self,product_ID,new_quantity):\n",
    "        if product_ID in self.products:\n",
    "            self.products[product_ID].quantity=new_quantity\n",
    "            print(f\"Quantiy of Product with {product_ID} has been updated to {self.products[product_ID].quantity}\")\n",
    "        \n",
    "        else:\n",
    "            print(f\"{product_ID} not in stock\")\n",
    "\n"
   ]
  },
  {
   "cell_type": "code",
   "execution_count": 2,
   "id": "b14f34a8",
   "metadata": {},
   "outputs": [
    {
     "name": "stdout",
     "output_type": "stream",
     "text": [
      "Laptop has been added.\n",
      "Mouse has been added.\n",
      "1,Laptop,999.99,10\n",
      "2,Mouse,19.99,50\n",
      "Quantiy of Product with 1 has been updated to 8\n",
      "1,Laptop,999.99,8\n",
      "2,Mouse,19.99,50\n"
     ]
    }
   ],
   "source": [
    "inventory = InventorySystem()\n",
    "product1 = Product(1, \"Laptop\", 999.99, 10)\n",
    "product2 = Product(2, \"Mouse\", 19.99, 50)\n",
    "\n",
    "inventory.add_product(product1)\n",
    "inventory.add_product(product2)\n",
    "\n",
    "inventory.display_available_products()\n",
    "\n",
    "\n",
    "inventory.update_product_quantity(1, 8)\n",
    "\n",
    "inventory.display_available_products()"
   ]
  },
  {
   "cell_type": "code",
   "execution_count": 3,
   "id": "dfad03a5",
   "metadata": {},
   "outputs": [],
   "source": [
    "##Problem 7: Student Management Create a class representing a student with attributes like student ID,\n",
    "#name, and grades. \n",
    "#Implement methods to calculate the average grade and display student details."
   ]
  },
  {
   "cell_type": "code",
   "execution_count": null,
   "id": "17cf7754",
   "metadata": {},
   "outputs": [],
   "source": [
    "class Students:\n",
    "    def __init__(self,student_ID,name,grade):\n",
    "        \n",
    "        \n",
    "    def display_details(self):\n",
    "        "
   ]
  },
  {
   "cell_type": "code",
   "execution_count": 4,
   "id": "57ad850f",
   "metadata": {},
   "outputs": [
    {
     "name": "stdout",
     "output_type": "stream",
     "text": [
      "Student ID: 1\n",
      "Name: Alice\n",
      "Grades: 95, 89, 78\n",
      "Average Grade: 87.33333333333333\n",
      "\n",
      "Student ID: 2\n",
      "Name: Bob\n",
      "Grades: 87, 92, 76\n",
      "Average Grade: 85.0\n"
     ]
    }
   ],
   "source": [
    "class Student:\n",
    "    def __init__(self, student_id, name):\n",
    "        self.student_id = student_id\n",
    "        self.name = name\n",
    "        self.grades = []\n",
    "\n",
    "    def add_grade(self, grade):\n",
    "        self.grades.append(grade)\n",
    "\n",
    "    def calculate_average_grade(self):\n",
    "        if len(self.grades) == 0:\n",
    "            return 0\n",
    "        return sum(self.grades) / len(self.grades)\n",
    "\n",
    "    def display_student_details(self):\n",
    "        print(f\"Student ID: {self.student_id}\")\n",
    "        print(f\"Name: {self.name}\")\n",
    "        print(f\"Grades: {', '.join(map(str, self.grades))}\")\n",
    "        print(f\"Average Grade: {self.calculate_average_grade()}\")\n",
    "\n",
    "# Example usage:\n",
    "student1 = Student(1, \"Alice\")\n",
    "student1.add_grade(95)\n",
    "student1.add_grade(89)\n",
    "student1.add_grade(78)\n",
    "\n",
    "student2 = Student(2, \"Bob\")\n",
    "student2.add_grade(87)\n",
    "student2.add_grade(92)\n",
    "student2.add_grade(76)\n",
    "\n",
    "student1.display_student_details()\n",
    "print()\n",
    "student2.display_student_details()\n",
    "\n"
   ]
  },
  {
   "cell_type": "code",
   "execution_count": 12,
   "id": "4b2372f5",
   "metadata": {},
   "outputs": [
    {
     "name": "stdout",
     "output_type": "stream",
     "text": [
      "Student ID: 1\n",
      "Name: Alice\n",
      "Grades: [95, 89, 78]\n",
      "Average Grade: 87.33333333333333\n",
      "\n",
      "Student ID: 2\n",
      "Name: Bob\n",
      "Grades: [87, 92, 76]\n",
      "Average Grade: 85.0\n"
     ]
    }
   ],
   "source": [
    "class Student:\n",
    "    def __init__(self, student_id, name):\n",
    "        self.student_id = student_id\n",
    "        self.name = name\n",
    "        self.grades = []\n",
    "\n",
    "    def add_grade(self, grade):\n",
    "        self.grades.append(grade)\n",
    "\n",
    "    def calculate_average_grade(self):\n",
    "        if len(self.grades) == 0:\n",
    "            return 0\n",
    "        return sum(self.grades) / len(self.grades)\n",
    "\n",
    "    def display_student_details(self):\n",
    "        print(f\"Student ID: {self.student_id}\")\n",
    "        print(f\"Name: {self.name}\")\n",
    "        print(f\"Grades: {self.grades}\")\n",
    "        print(f\"Average Grade: {self.calculate_average_grade()}\")\n",
    "\n",
    "# Example usage:\n",
    "student1 = Student(1, \"Alice\")\n",
    "student1.add_grade(95)\n",
    "student1.add_grade(89)\n",
    "student1.add_grade(78)\n",
    "\n",
    "student2 = Student(2, \"Bob\")\n",
    "student2.add_grade(87)\n",
    "student2.add_grade(92)\n",
    "student2.add_grade(76)\n",
    "\n",
    "student1.display_student_details()\n",
    "print()\n",
    "student2.display_student_details()\n",
    "\n"
   ]
  },
  {
   "cell_type": "code",
   "execution_count": 31,
   "id": "509f7807",
   "metadata": {},
   "outputs": [],
   "source": [
    "class Student:\n",
    "    def __init__(self,ID,name):\n",
    "        self.ID=ID\n",
    "        self.name=name\n",
    "        self.grades=[]\n",
    "        \n",
    "    def add_grade(self,grade):\n",
    "        self.grades.append(grade)\n",
    "        \n",
    "    def calculate_average_grade(self):\n",
    "        if len(self.grades)==0:\n",
    "            return 0\n",
    "        else:\n",
    "            return sum(self.grades)/len(self.grades)\n",
    "        \n",
    "    def display_student_details(self):\n",
    "        print(f\"ID : {self.ID}\")\n",
    "        print(f\"name : {self.name}\")\n",
    "        print(f\"grades: {', '.join(map(str,self.grades))}\")\n",
    "        print(f\"average grade : {self.calculate_average_grade()}\")\n",
    "        \n",
    "        "
   ]
  },
  {
   "cell_type": "code",
   "execution_count": 32,
   "id": "bb5d8c42",
   "metadata": {},
   "outputs": [
    {
     "name": "stdout",
     "output_type": "stream",
     "text": [
      "ID : 1\n",
      "name : Alice\n",
      "grades: 95, 89, 78\n",
      "average grade : 87.33333333333333\n",
      "\n",
      "ID : 2\n",
      "name : Bob\n",
      "grades: 87, 92, 76\n",
      "average grade : 85.0\n"
     ]
    }
   ],
   "source": [
    "student1 = Student(1, \"Alice\")\n",
    "student1.add_grade(95)\n",
    "student1.add_grade(89)\n",
    "student1.add_grade(78)\n",
    "\n",
    "student2 = Student(2, \"Bob\")\n",
    "student2.add_grade(87)\n",
    "student2.add_grade(92)\n",
    "student2.add_grade(76)\n",
    "\n",
    "student1.display_student_details()\n",
    "print()\n",
    "student2.display_student_details()"
   ]
  },
  {
   "cell_type": "code",
   "execution_count": 26,
   "id": "bf71641b",
   "metadata": {},
   "outputs": [],
   "source": [
    "class Student:\n",
    "    def __init__(self,ID,name):\n",
    "        self.ID=ID\n",
    "        self.name=name\n",
    "        self.grades=[]         ####\n",
    "        \n",
    "    def add_grade(self,grade):\n",
    "        self.grades.append(grade)\n",
    "        \n",
    "    def calculate_average_grade(self):\n",
    "        if len(self.grades)==0:     ####\n",
    "            return 0    ####\n",
    "        else:\n",
    "            return f\"{sum(self.grades)/len(self.grades):.2f}\"  ####\n",
    "        \n",
    "    def display(self):\n",
    "        print(f\"ID : {self.ID}\")\n",
    "        print(f\"Name : {self.name}\")\n",
    "        print(f\"grades: {','.join(map(str,self.grades))}\")\n",
    "        print(f\"{self.calculate_average_grade()}\")    "
   ]
  },
  {
   "cell_type": "code",
   "execution_count": 27,
   "id": "abc31cb6",
   "metadata": {},
   "outputs": [],
   "source": [
    "student1 = Student(1, \"Alice\")\n",
    "student1.add_grade(95)\n",
    "student1.add_grade(89)\n",
    "student1.add_grade(78)\n",
    "\n",
    "student2 = Student(2, \"Bob\")\n",
    "student2.add_grade(87)\n",
    "student2.add_grade(92)\n",
    "student2.add_grade(76)"
   ]
  },
  {
   "cell_type": "code",
   "execution_count": 28,
   "id": "0fa43c3b",
   "metadata": {},
   "outputs": [],
   "source": [
    "student1=Student(1,'jock')\n",
    "student2=Student(2,'jilly')\n"
   ]
  },
  {
   "cell_type": "code",
   "execution_count": 29,
   "id": "a0b27366",
   "metadata": {},
   "outputs": [],
   "source": [
    "student1.add_grade(60)\n",
    "student1.add_grade(80)\n",
    "student1.add_grade(90)"
   ]
  },
  {
   "cell_type": "code",
   "execution_count": 30,
   "id": "198b24f5",
   "metadata": {},
   "outputs": [
    {
     "name": "stdout",
     "output_type": "stream",
     "text": [
      "ID : 1\n",
      "Name : jock\n",
      "grades: 60,80,90\n",
      "76.67\n"
     ]
    }
   ],
   "source": [
    "student1.display()"
   ]
  },
  {
   "cell_type": "code",
   "execution_count": 40,
   "id": "3423814b",
   "metadata": {},
   "outputs": [],
   "source": [
    "class Student:\n",
    "    \n",
    "    def __init__(self,ID,name):\n",
    "        self.ID=ID\n",
    "        self.name=name\n",
    "        self.grades=[]\n",
    "        \n",
    "    def add_grade(self,grade):\n",
    "        self.grades.append(grade)\n",
    "        \n",
    "    def calculate_average_grade(self):\n",
    "        if len(self.grades)==0:\n",
    "            return 0\n",
    "        else:\n",
    "            return sum(self.grades)/len(self.grades)\n",
    "        \n",
    "    def display_student_details(self):\n",
    "        print(f\"ID : {self.ID}\")\n",
    "        print(f\"Name : {self.name}\")\n",
    "        print(f\"grades : {','.join(map(str,self.grades))}\")\n",
    "        print(f\"Average grade : {self.calculate_average_grade()}\")\n",
    "\n",
    "    "
   ]
  },
  {
   "cell_type": "code",
   "execution_count": 41,
   "id": "236f5377",
   "metadata": {},
   "outputs": [],
   "source": [
    "student1=Student(1,\"Alice\")\n",
    "student1.add_grade(98)\n",
    "student1.add_grade(78)\n",
    "student1.add_grade(88)"
   ]
  },
  {
   "cell_type": "code",
   "execution_count": 42,
   "id": "8f0f77a4",
   "metadata": {},
   "outputs": [
    {
     "name": "stdout",
     "output_type": "stream",
     "text": [
      "ID : 1\n",
      "Name : Alice\n",
      "grades : 98,78,88\n",
      "Average grade : 88.0\n"
     ]
    }
   ],
   "source": [
    "student1.display_student_details()"
   ]
  },
  {
   "cell_type": "code",
   "execution_count": null,
   "id": "6e9aab52",
   "metadata": {},
   "outputs": [],
   "source": [
    "#Problem 8: Email Management Create a class representing an email with attributes like sender, \n",
    "#recipient, and subject. \n",
    "#Implement methods to send an email and display email details."
   ]
  },
  {
   "cell_type": "code",
   "execution_count": 43,
   "id": "9b983efd",
   "metadata": {},
   "outputs": [
    {
     "name": "stdout",
     "output_type": "stream",
     "text": [
      "Email Details Before Sending:\n",
      "Sender: alice@example.com\n",
      "Recipient: bob@example.com\n",
      "Subject: Hello\n",
      "Message:\n",
      "Hi Bob, how are you?\n",
      "Status: Email has not been sent\n",
      "Email Sent from: alice@example.com\n",
      "Email Sent to: bob@example.com\n",
      "Subject: Hello\n",
      "Message:\n",
      "Hi Bob, how are you?\n",
      "\n",
      "Email Details After Sending:\n",
      "Sender: alice@example.com\n",
      "Recipient: bob@example.com\n",
      "Subject: Hello\n",
      "Message:\n",
      "Hi Bob, how are you?\n",
      "Status: Email has been sent\n"
     ]
    }
   ],
   "source": [
    "class Email:\n",
    "    def __init__(self, sender, recipient, subject, message):\n",
    "        self.sender = sender\n",
    "        self.recipient = recipient\n",
    "        self.subject = subject\n",
    "        self.message = message\n",
    "        self.sent = False\n",
    "\n",
    "    def send_email(self):\n",
    "        # Implement the logic to send the email, for example, by printing it here.\n",
    "        print(f\"Email Sent from: {self.sender}\")\n",
    "        print(f\"Email Sent to: {self.recipient}\")\n",
    "        print(f\"Subject: {self.subject}\")\n",
    "        print(\"Message:\")\n",
    "        print(self.message)\n",
    "        self.sent = True\n",
    "\n",
    "    def display_email_details(self):\n",
    "        print(f\"Sender: {self.sender}\")\n",
    "        print(f\"Recipient: {self.recipient}\")\n",
    "        print(f\"Subject: {self.subject}\")\n",
    "        print(\"Message:\")\n",
    "        print(self.message)\n",
    "        if self.sent:\n",
    "            print(\"Status: Email has been sent\")\n",
    "        else:\n",
    "            print(\"Status: Email has not been sent\")\n",
    "\n",
    "# Example usage:\n",
    "email = Email(\"alice@example.com\", \"bob@example.com\", \"Hello\", \"Hi Bob, how are you?\")\n",
    "\n",
    "# Display email details before sending\n",
    "print(\"Email Details Before Sending:\")\n",
    "email.display_email_details()\n",
    "\n",
    "# Send the email\n",
    "email.send_email()\n",
    "\n",
    "# Display email details after sending\n",
    "print(\"\\nEmail Details After Sending:\")\n",
    "email.display_email_details()\n"
   ]
  },
  {
   "cell_type": "code",
   "execution_count": 45,
   "id": "f6d029cc",
   "metadata": {},
   "outputs": [],
   "source": [
    "class Email:\n",
    "    \n",
    "    def __init__(self,sender,recipient,subject,message):\n",
    "        self.sender=sender\n",
    "        self.recipient=recipient\n",
    "        self.subject=subject\n",
    "        self.message=message\n",
    "        self.sent=False\n",
    "        \n",
    "    def send_email(self):\n",
    "        print(f\"Sender : {self.sender}\")\n",
    "        print(f\"Recipient :{self.recipient}\")\n",
    "        print(f\"Subject : {self.subject}\")\n",
    "        print(f\"Message : {self.message}\")\n",
    "        self.sent=True\n",
    "       \n",
    "    def display_email_details(self):\n",
    "        print(f\"Sender : {self.sender}\")\n",
    "        print(f\"Recipient :{self.recipient}\")\n",
    "        print(f\"Subject : {self.subject}\")\n",
    "        print(f\"Message : {self.message}\")\n",
    "        if self.sent==True:\n",
    "            print(f\"Status: Message has been sent\")\n",
    "        else:\n",
    "             print(f\"Status: Message has not been sent\")\n",
    "            \n",
    "        \n",
    "        \n",
    "        "
   ]
  },
  {
   "cell_type": "code",
   "execution_count": 50,
   "id": "c8a641d6",
   "metadata": {},
   "outputs": [],
   "source": [
    "email1=Email(\"bob@gmail.com\",\"alice@gmail.com\",\"Hello\",\"How are you ALice?\")"
   ]
  },
  {
   "cell_type": "code",
   "execution_count": 51,
   "id": "05dcffe6",
   "metadata": {},
   "outputs": [
    {
     "name": "stdout",
     "output_type": "stream",
     "text": [
      "Sender : bob@gmail.com\n",
      "Recipient :alice@gmail.com\n",
      "Subject : Hello\n",
      "Message : How are you ALice?\n",
      "Status: Message has not been sent\n"
     ]
    }
   ],
   "source": [
    "email1.display_email_details()"
   ]
  },
  {
   "cell_type": "code",
   "execution_count": 52,
   "id": "c480d10f",
   "metadata": {},
   "outputs": [
    {
     "name": "stdout",
     "output_type": "stream",
     "text": [
      "Sender : bob@gmail.com\n",
      "Recipient :alice@gmail.com\n",
      "Subject : Hello\n",
      "Message : How are you ALice?\n"
     ]
    }
   ],
   "source": [
    "email1.send_email()"
   ]
  },
  {
   "cell_type": "code",
   "execution_count": 53,
   "id": "83cb5a8b",
   "metadata": {},
   "outputs": [
    {
     "name": "stdout",
     "output_type": "stream",
     "text": [
      "Sender : bob@gmail.com\n",
      "Recipient :alice@gmail.com\n",
      "Subject : Hello\n",
      "Message : How are you ALice?\n",
      "Status: Message has been sent\n"
     ]
    }
   ],
   "source": [
    "email1.display_email_details()"
   ]
  },
  {
   "cell_type": "code",
   "execution_count": 55,
   "id": "0279cf3e",
   "metadata": {},
   "outputs": [],
   "source": [
    "class Email:\n",
    "    \n",
    "    def __init__(self,sender,recipient,subject,message):\n",
    "        self.sender=sender\n",
    "        self.recipient=recipient\n",
    "        self.subject=subject\n",
    "        self.message=message\n",
    "        self.sent=False\n",
    "        \n",
    "    def send_email(self):\n",
    "        print(f\"Sent from : {self.sender}\")\n",
    "        print(f\"Received by :{self.recipient}\")\n",
    "        print(f\"Subject : {self.subject}\")\n",
    "        print(f\"Message : {self.message}\")\n",
    "        self.sent=True\n",
    "        \n",
    "    def display_email_details(self):\n",
    "        print(f\"Sender : {self.sender}\")\n",
    "        print(f\"Recipient :{self.recipient}\")\n",
    "        print(f\"Subject : {self.subject}\")\n",
    "        print(f\"Message : {self.message}\")\n",
    "        if self.sent==True:\n",
    "            print(f\"Mail sent\")\n",
    "        else:\n",
    "            print(f\"Mail not sent\")\n",
    "            \n",
    "        \n",
    "        \n",
    "        "
   ]
  },
  {
   "cell_type": "code",
   "execution_count": 59,
   "id": "7ceeccda",
   "metadata": {},
   "outputs": [],
   "source": [
    "email1=Email(\"alice@gmail.com\",\"bob@gmail.com\",\"Hello\",\"Hi bob\")\n"
   ]
  },
  {
   "cell_type": "code",
   "execution_count": 61,
   "id": "b3eaa133",
   "metadata": {},
   "outputs": [
    {
     "name": "stdout",
     "output_type": "stream",
     "text": [
      "Sent from : alice@gmail.com\n",
      "Received by :bob@gmail.com\n",
      "Subject : Hello\n",
      "Message : Hi bob\n"
     ]
    }
   ],
   "source": [
    "email1.send_email()\n"
   ]
  },
  {
   "cell_type": "code",
   "execution_count": 62,
   "id": "e009f060",
   "metadata": {},
   "outputs": [
    {
     "name": "stdout",
     "output_type": "stream",
     "text": [
      "Sender : alice@gmail.com\n",
      "Recipient :bob@gmail.com\n",
      "Subject : Hello\n",
      "Message : Hi bob\n",
      "Mail sent\n"
     ]
    }
   ],
   "source": [
    "email1. display_email_details()"
   ]
  },
  {
   "cell_type": "code",
   "execution_count": null,
   "id": "9dea8659",
   "metadata": {},
   "outputs": [],
   "source": [
    "# 9. Social Media Profile Create a class representing a social media profile with attributes \n",
    "#like username and posts. \n",
    "#Implement methods to add posts, display posts, and search for posts by keyword."
   ]
  },
  {
   "cell_type": "code",
   "execution_count": 63,
   "id": "1656d58d",
   "metadata": {},
   "outputs": [
    {
     "name": "stdout",
     "output_type": "stream",
     "text": [
      "Alice's Posts:\n",
      "Post 1: Hello, this is my first post!\n",
      "Post 2: Enjoying a beautiful day at the park.\n",
      "Post 3: Coding is fun!\n",
      "Post 4: Exploring new recipes in the kitchen.\n",
      "\n",
      "Bob's Posts:\n",
      "Post 1: Just finished reading a great book.\n",
      "Post 2: Watching my favorite sports team play today.\n",
      "\n",
      "No posts by Alice contain the keyword 'coding'.\n"
     ]
    }
   ],
   "source": [
    "class SocialMediaProfile:\n",
    "    def __init__(self, username):\n",
    "        self.username = username\n",
    "        self.posts = []\n",
    "\n",
    "    def add_post(self, post_content):\n",
    "        self.posts.append(post_content)\n",
    "\n",
    "    def display_posts(self):\n",
    "        if not self.posts:\n",
    "            print(f\"{self.username} has no posts.\")\n",
    "        else:\n",
    "            print(f\"{self.username}'s Posts:\")\n",
    "            for i, post in enumerate(self.posts, start=1):\n",
    "                print(f\"Post {i}: {post}\")\n",
    "\n",
    "    def search_posts(self, keyword):\n",
    "        matching_posts = [post for post in self.posts if keyword in post]\n",
    "        if matching_posts:\n",
    "            print(f\"Posts by {self.username} containing the keyword '{keyword}':\")\n",
    "            for i, post in enumerate(matching_posts, start=1):\n",
    "                print(f\"Match {i}: {post}\")\n",
    "        else:\n",
    "            print(f\"No posts by {self.username} contain the keyword '{keyword}'.\")\n",
    "\n",
    "# Example usage:\n",
    "profile1 = SocialMediaProfile(\"Alice\")\n",
    "profile1.add_post(\"Hello, this is my first post!\")\n",
    "profile1.add_post(\"Enjoying a beautiful day at the park.\")\n",
    "profile1.add_post(\"Coding is fun!\")\n",
    "profile1.add_post(\"Exploring new recipes in the kitchen.\")\n",
    "\n",
    "profile2 = SocialMediaProfile(\"Bob\")\n",
    "profile2.add_post(\"Just finished reading a great book.\")\n",
    "profile2.add_post(\"Watching my favorite sports team play today.\")\n",
    "\n",
    "# Display posts of the profiles\n",
    "profile1.display_posts()\n",
    "print()\n",
    "profile2.display_posts()\n",
    "\n",
    "# Search for posts by keyword\n",
    "print()\n",
    "profile1.search_posts(\"coding\")\n"
   ]
  },
  {
   "cell_type": "code",
   "execution_count": 1,
   "id": "56ab08f6",
   "metadata": {},
   "outputs": [],
   "source": [
    "class SocialMediaProfile:\n",
    "\n",
    "  def __init__(self,username):\n",
    "    self.username=username\n",
    "    self.posts=[]\n",
    "\n",
    "  def add_post(self,post):\n",
    "    self.posts.append(post)\n",
    "\n",
    "  def display_posts(self):\n",
    "    if self.posts:\n",
    "      print(f\"Posts by {self.username} are : \")\n",
    "      for i,post in enumerate(self.posts,start=1):\n",
    "        print(f\"{i} : {post}\")\n",
    "    else:\n",
    "      print(f\"No posts by {self.username}\")\n",
    "\n",
    "  def search_post(self,keyword):\n",
    "    matching_posts=[post for post in self.posts if keyword in post]\n",
    "    if matching_posts:\n",
    "      print(f\"Posts by {self.username} that contains the keyword {keyword} are : \")\n",
    "      for i,post in enumerate(matching_posts,start=1):\n",
    "\n",
    "        print(f\"{i} : {post}\")\n",
    "\n",
    "    else:\n",
    "      print(f\"No posts by {self.username} containing the keyword.\")\n"
   ]
  },
  {
   "cell_type": "code",
   "execution_count": 2,
   "id": "aa5af4af",
   "metadata": {},
   "outputs": [
    {
     "name": "stdout",
     "output_type": "stream",
     "text": [
      "Posts by Joe Vitale are : \n",
      "1 : I had a great day at the park today!\n",
      "2 : Enjoying a cup of coffee on a rainy day.\n",
      "3 : Exploring new hiking trails. #adventure\n",
      "Posts by Joe Vitale that contains the keyword great are : \n",
      "1 : I had a great day at the park today!\n"
     ]
    }
   ],
   "source": [
    "profile1=SocialMediaProfile(\"Joe Vitale\")\n",
    "profile1.add_post(\"I had a great day at the park today!\")\n",
    "profile1.add_post(\"Enjoying a cup of coffee on a rainy day.\")\n",
    "profile1.add_post(\"Exploring new hiking trails. #adventure\")\n",
    "profile1.display_posts()\n",
    "profile1.search_post(\"great\")"
   ]
  },
  {
   "cell_type": "code",
   "execution_count": 3,
   "id": "db1b2174",
   "metadata": {},
   "outputs": [],
   "source": [
    "#Problem 10: ToDo List Create a class representing a ToDo list with attributes like tasks\n",
    "#and due dates. \n",
    "#Implement methods to add tasks, mark tasks as completed, and display pending tasks."
   ]
  },
  {
   "cell_type": "code",
   "execution_count": 42,
   "id": "06ac1fc4",
   "metadata": {},
   "outputs": [],
   "source": [
    "class Task:\n",
    "    def __init__(self,task,due_date):\n",
    "        self.task=task\n",
    "        self.due_date=due_date\n",
    "        \n",
    "        \n",
    "    def __str__(self):   \n",
    "        return f\"Task : {self.task}, Due Date: {self.due_date}\"\n",
    "        \n",
    "class Todo:\n",
    "    \n",
    "    def __init__(self):\n",
    "        self.tasks=[]\n",
    "        \n",
    "        \n",
    "    def add_task(self,task):\n",
    "        self.tasks.append(task)\n",
    "    \n",
    "    def complete_task(self,task):\n",
    "        if task in self.tasks:\n",
    "            self.tasks.remove(task)\n",
    "        print(f\"Task '{task.task}' has been accomplished\")\n",
    "            \n",
    "    def display_tasks(self):\n",
    "        print(f\"Tasks in todo list :\")\n",
    "        for i,task in enumerate(self.tasks,start=1):\n",
    "                print(f\"{i}. {task}\")\n",
    "        \n",
    "        \n",
    "\n",
    "        "
   ]
  },
  {
   "cell_type": "code",
   "execution_count": 43,
   "id": "aa988a7d",
   "metadata": {},
   "outputs": [
    {
     "name": "stdout",
     "output_type": "stream",
     "text": [
      "Tasks in todo list :\n",
      "1. Task : Do the cleaning, Due Date: 22nd October\n",
      "2. Task : Make a dish, Due Date: 21st October\n",
      "3. Task : Make a presentation, Due Date: 20th October\n",
      "Task 'Make a presentation' has been accomplished\n",
      "Tasks in todo list :\n",
      "1. Task : Do the cleaning, Due Date: 22nd October\n",
      "2. Task : Make a dish, Due Date: 21st October\n"
     ]
    }
   ],
   "source": [
    "todo1=Todo()\n",
    "\n",
    "task1=Task(\"Do the cleaning\",\"22nd October\")\n",
    "task2=Task(\"Make a dish\",\"21st October\")\n",
    "task3=Task(\"Make a presentation\",\"20th October\")\n",
    "todo1.add_task(task1)\n",
    "todo1.add_task(task2)\n",
    "todo1.add_task(task3)\n",
    "todo1.display_tasks()\n",
    "todo1.complete_task(task3)\n",
    "todo1.display_tasks()"
   ]
  },
  {
   "cell_type": "code",
   "execution_count": 49,
   "id": "d5badf68",
   "metadata": {},
   "outputs": [],
   "source": [
    "class Task:               \n",
    "    #Had to make a separate class for each task since we need to include due date\n",
    "    def __init__(self,task,due_date):\n",
    "        self.task=task\n",
    "        self.due_date=due_date\n",
    "        \n",
    "        \n",
    "    def __str__(self):   \n",
    "        return f\"Task : {self.task}, Due Date: {self.due_date}\"   \n",
    "    ##without __str__  we can't print task,\n",
    "    #which is an object of class Task.\n",
    "        \n",
    "class Todo:\n",
    "    \n",
    "    def __init__(self):\n",
    "        self.tasks=[]\n",
    "        \n",
    "        \n",
    "    def add_task(self,task):\n",
    "        self.tasks.append(task)\n",
    "    \n",
    "    def complete_task(self,task):\n",
    "        if task in self.tasks:\n",
    "            self.tasks.remove(task)     \n",
    "            #Remove the task, it is no longer in todo list as it is done.\n",
    "        print(f\"Task '{task.task}' has been accomplished\")\n",
    "            \n",
    "    def display_tasks(self):\n",
    "        print(f\"Tasks in todo list :\")\n",
    "        for i,task in enumerate(self.tasks,start=1): \n",
    "            #have to use enumerate if we want to index the tasks\n",
    "                print(f\"{i}. {task}\")\n",
    "        print()\n",
    "        \n",
    "        \n",
    "\n",
    "        "
   ]
  },
  {
   "cell_type": "code",
   "execution_count": 50,
   "id": "81092006",
   "metadata": {},
   "outputs": [
    {
     "name": "stdout",
     "output_type": "stream",
     "text": [
      "Tasks in todo list :\n",
      "1. Task : Do the cleaning, Due Date: 22nd October\n",
      "2. Task : Make a dish, Due Date: 21st October\n",
      "3. Task : Make a presentation, Due Date: 20th October\n",
      "\n",
      "Task 'Make a presentation' has been accomplished\n",
      "Tasks in todo list :\n",
      "1. Task : Do the cleaning, Due Date: 22nd October\n",
      "2. Task : Make a dish, Due Date: 21st October\n",
      "\n"
     ]
    }
   ],
   "source": [
    "todo1=Todo()\n",
    "\n",
    "task1=Task(\"Do the cleaning\",\"22nd October\")\n",
    "task2=Task(\"Make a dish\",\"21st October\")\n",
    "task3=Task(\"Make a presentation\",\"20th October\")\n",
    "todo1.add_task(task1)\n",
    "todo1.add_task(task2)\n",
    "todo1.add_task(task3)\n",
    "todo1.display_tasks()\n",
    "todo1.complete_task(task3)\n",
    "todo1.display_tasks()"
   ]
  },
  {
   "cell_type": "code",
   "execution_count": null,
   "id": "7122341f",
   "metadata": {},
   "outputs": [],
   "source": []
  }
 ],
 "metadata": {
  "kernelspec": {
   "display_name": "Python 3 (ipykernel)",
   "language": "python",
   "name": "python3"
  },
  "language_info": {
   "codemirror_mode": {
    "name": "ipython",
    "version": 3
   },
   "file_extension": ".py",
   "mimetype": "text/x-python",
   "name": "python",
   "nbconvert_exporter": "python",
   "pygments_lexer": "ipython3",
   "version": "3.9.17"
  }
 },
 "nbformat": 4,
 "nbformat_minor": 5
}
